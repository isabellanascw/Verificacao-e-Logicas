{
  "nbformat": 4,
  "nbformat_minor": 0,
  "metadata": {
    "colab": {
      "provenance": [],
      "authorship_tag": "ABX9TyPwBbLX31phE6wQIwPUwa5l",
      "include_colab_link": true
    },
    "kernelspec": {
      "name": "python3",
      "display_name": "Python 3"
    },
    "language_info": {
      "name": "python"
    }
  },
  "cells": [
    {
      "cell_type": "markdown",
      "metadata": {
        "id": "view-in-github",
        "colab_type": "text"
      },
      "source": [
        "<a href=\"https://colab.research.google.com/github/isabellanascw/Verificacao-e-Logicas/blob/main/verifica_o_de_fibonacci_e_outras_l_gicas.ipynb\" target=\"_parent\"><img src=\"https://colab.research.google.com/assets/colab-badge.svg\" alt=\"Open In Colab\"/></a>"
      ]
    },
    {
      "cell_type": "code",
      "execution_count": null,
      "metadata": {
        "colab": {
          "base_uri": "https://localhost:8080/"
        },
        "id": "gdMmP3CF-yDX",
        "outputId": "3b9ff6b6-3bcd-4f60-f59a-de1cf918b91c"
      },
      "outputs": [
        {
          "output_type": "stream",
          "name": "stdout",
          "text": [
            "Informe um número para verificar na sequência de Fibonacci: 7\n",
            "O número 7 NÃO pertence à sequência de Fibonacci.\n"
          ]
        }
      ],
      "source": [
        "def fibonacci(n):\n",
        "    a, b = 0, 1\n",
        "    while a < n:\n",
        "        a, b = b, a + b\n",
        "    return a == n\n",
        "\n",
        "# Entrada de um número\n",
        "num = int(input(\"Informe um número para verificar na sequência de Fibonacci: \"))\n",
        "\n",
        "if fibonacci(num):\n",
        "    print(f\"O número {num} pertence à sequência de Fibonacci.\")\n",
        "else:\n",
        "    print(f\"O número {num} NÃO pertence à sequência de Fibonacci.\")\n"
      ]
    },
    {
      "cell_type": "code",
      "source": [
        "def contar_a(string):\n",
        "    count = string.lower().count('a')\n",
        "    print(f\"A letra 'a' aparece {count} vezes na string.\")\n",
        "\n",
        "# Entrada de uma string\n",
        "texto = input(\"Informe uma string: \")\n",
        "contar_a(texto)\n"
      ],
      "metadata": {
        "colab": {
          "base_uri": "https://localhost:8080/"
        },
        "id": "H86tQ_P4-4pe",
        "outputId": "6831def9-3e52-4949-fe4e-760cd098bf9e"
      },
      "execution_count": null,
      "outputs": [
        {
          "output_type": "stream",
          "name": "stdout",
          "text": [
            "Informe uma string: Amor\n",
            "A letra 'a' aparece 1 vezes na string.\n"
          ]
        }
      ]
    },
    {
      "cell_type": "code",
      "source": [
        "def calcular_soma():\n",
        "    INDICE = 12\n",
        "    SOMA = 0\n",
        "    K = 1\n",
        "\n",
        "    while K < INDICE:\n",
        "        K = K + 1\n",
        "        SOMA = SOMA + K\n",
        "\n",
        "    print(f\"O valor da variável SOMA é: {SOMA}\")\n",
        "\n",
        "calcular_soma()\n"
      ],
      "metadata": {
        "colab": {
          "base_uri": "https://localhost:8080/"
        },
        "id": "xkd4FaIR_Plp",
        "outputId": "1a3186ed-cf85-41ca-ac4e-7df50d44b51b"
      },
      "execution_count": null,
      "outputs": [
        {
          "output_type": "stream",
          "name": "stdout",
          "text": [
            "O valor da variável SOMA é: 77\n"
          ]
        }
      ]
    },
    {
      "cell_type": "code",
      "source": [
        "def completar_sequencias():\n",
        "    # a) Sequência de números ímpares\n",
        "    sequencia_a = [1, 3, 5, 7, 9]  # O próximo número é 9\n",
        "    print(f\"a) Próximo número: {sequencia_a[-1]}\")\n",
        "\n",
        "    # b) Sequência de potências de 2\n",
        "    sequencia_b = [2, 4, 8, 16, 32, 64, 128]  # O próximo número é 128\n",
        "    print(f\"b) Próximo número: {sequencia_b[-1]}\")\n",
        "\n",
        "    # c) Sequência de quadrados perfeitos\n",
        "    sequencia_c = [0, 1, 4, 9, 16, 25, 36, 49]  # O próximo número é 49\n",
        "    print(f\"c) Próximo número: {sequencia_c[-1]}\")\n",
        "\n",
        "    # d) Sequência de quadrados perfeitos multiplicados por 4\n",
        "    sequencia_d = [4, 16, 36, 64, 100]  # O próximo número é 100\n",
        "    print(f\"d) Próximo número: {sequencia_d[-1]}\")\n",
        "\n",
        "    # e) Sequência de Fibonacci\n",
        "    sequencia_e = [1, 1, 2, 3, 5, 8, 13]  # O próximo número é 13\n",
        "    print(f\"e) Próximo número: {sequencia_e[-1]}\")\n",
        "\n",
        "    # f) Sequência numérica com padrão específico\n",
        "    sequencia_f = [2, 10, 12, 16, 17, 18, 19, 20]  # O próximo número é 20\n",
        "    print(f\"f) Próximo número: {sequencia_f[-1]}\")\n",
        "\n",
        "completar_sequencias()\n"
      ],
      "metadata": {
        "colab": {
          "base_uri": "https://localhost:8080/"
        },
        "id": "QwCy6ZmH_TZ4",
        "outputId": "85b33eb1-20d1-473b-9024-7192075e7dc9"
      },
      "execution_count": null,
      "outputs": [
        {
          "output_type": "stream",
          "name": "stdout",
          "text": [
            "a) Próximo número: 9\n",
            "b) Próximo número: 128\n",
            "c) Próximo número: 49\n",
            "d) Próximo número: 100\n",
            "e) Próximo número: 13\n",
            "f) Próximo número: 20\n"
          ]
        }
      ]
    },
    {
      "cell_type": "code",
      "source": [
        "def resolver_enigma():\n",
        "    # Solução do enigma:\n",
        "    print(\"Solução para descobrir qual interruptor controla qual lâmpada:\")\n",
        "    print(\"1. Ligue o primeiro interruptor e espere alguns minutos.\")\n",
        "    print(\"2. Desligue o primeiro interruptor e ligue o segundo.\")\n",
        "    print(\"3. Vá até a sala das lâmpadas:\")\n",
        "    print(\"  - A lâmpada que está acesa corresponde ao segundo interruptor.\")\n",
        "    print(\"  - A lâmpada que está apagada e quente corresponde ao primeiro interruptor.\")\n",
        "    print(\"  - A lâmpada apagada e fria corresponde ao terceiro interruptor.\")\n",
        "\n",
        "resolver_enigma()\n"
      ],
      "metadata": {
        "colab": {
          "base_uri": "https://localhost:8080/"
        },
        "id": "R-FEpR_a_dOF",
        "outputId": "98332203-b376-466c-c490-78ce8615a36b"
      },
      "execution_count": null,
      "outputs": [
        {
          "output_type": "stream",
          "name": "stdout",
          "text": [
            "Solução para descobrir qual interruptor controla qual lâmpada:\n",
            "1. Ligue o primeiro interruptor e espere alguns minutos.\n",
            "2. Desligue o primeiro interruptor e ligue o segundo.\n",
            "3. Vá até a sala das lâmpadas:\n",
            "  - A lâmpada que está acesa corresponde ao segundo interruptor.\n",
            "  - A lâmpada que está apagada e quente corresponde ao primeiro interruptor.\n",
            "  - A lâmpada apagada e fria corresponde ao terceiro interruptor.\n"
          ]
        }
      ]
    }
  ]
}